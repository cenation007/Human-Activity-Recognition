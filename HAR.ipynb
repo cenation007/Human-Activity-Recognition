{
 "cells": [
  {
   "cell_type": "code",
   "execution_count": 6,
   "metadata": {},
   "outputs": [
    {
     "name": "stdout",
     "output_type": "stream",
     "text": [
      "['.ipynb_checkpoints', 'train.csv', 'test.csv', 'HAR.ipynb']\n"
     ]
    }
   ],
   "source": [
    "import numpy as np \n",
    "import pandas as pd \n",
    "import os\n",
    "import seaborn as sns\n",
    "import matplotlib.pyplot as plt\n",
    "print(os.listdir(\"/home/ayush/Desktop/HAR\"))"
   ]
  },
  {
   "cell_type": "code",
   "execution_count": 7,
   "metadata": {},
   "outputs": [],
   "source": [
    "df = pd.read_csv(\"/home/ayush/Desktop/HAR/train.csv\")\n",
    "test = pd.read_csv(\"/home/ayush/Desktop/HAR/test.csv\")"
   ]
  },
  {
   "cell_type": "code",
   "execution_count": 22,
   "metadata": {},
   "outputs": [
    {
     "data": {
      "text/html": [
       "<div>\n",
       "<style scoped>\n",
       "    .dataframe tbody tr th:only-of-type {\n",
       "        vertical-align: middle;\n",
       "    }\n",
       "\n",
       "    .dataframe tbody tr th {\n",
       "        vertical-align: top;\n",
       "    }\n",
       "\n",
       "    .dataframe thead th {\n",
       "        text-align: right;\n",
       "    }\n",
       "</style>\n",
       "<table border=\"1\" class=\"dataframe\">\n",
       "  <thead>\n",
       "    <tr style=\"text-align: right;\">\n",
       "      <th></th>\n",
       "      <th>0</th>\n",
       "      <th>1</th>\n",
       "      <th>2</th>\n",
       "      <th>3</th>\n",
       "      <th>4</th>\n",
       "      <th>5</th>\n",
       "      <th>6</th>\n",
       "      <th>7</th>\n",
       "      <th>8</th>\n",
       "      <th>9</th>\n",
       "      <th>...</th>\n",
       "      <th>7342</th>\n",
       "      <th>7343</th>\n",
       "      <th>7344</th>\n",
       "      <th>7345</th>\n",
       "      <th>7346</th>\n",
       "      <th>7347</th>\n",
       "      <th>7348</th>\n",
       "      <th>7349</th>\n",
       "      <th>7350</th>\n",
       "      <th>7351</th>\n",
       "    </tr>\n",
       "  </thead>\n",
       "  <tbody>\n",
       "    <tr>\n",
       "      <td>tBodyAcc-mean()-X</td>\n",
       "      <td>0.288585</td>\n",
       "      <td>0.278419</td>\n",
       "      <td>0.279653</td>\n",
       "      <td>0.279174</td>\n",
       "      <td>0.276629</td>\n",
       "      <td>0.277199</td>\n",
       "      <td>0.279454</td>\n",
       "      <td>0.277432</td>\n",
       "      <td>0.277293</td>\n",
       "      <td>0.280586</td>\n",
       "      <td>...</td>\n",
       "      <td>0.276137</td>\n",
       "      <td>0.29423</td>\n",
       "      <td>0.221206</td>\n",
       "      <td>0.207861</td>\n",
       "      <td>0.237966</td>\n",
       "      <td>0.299665</td>\n",
       "      <td>0.273853</td>\n",
       "      <td>0.273387</td>\n",
       "      <td>0.289654</td>\n",
       "      <td>0.351503</td>\n",
       "    </tr>\n",
       "    <tr>\n",
       "      <td>tBodyAcc-mean()-Y</td>\n",
       "      <td>-0.0202942</td>\n",
       "      <td>-0.0164106</td>\n",
       "      <td>-0.0194672</td>\n",
       "      <td>-0.0262006</td>\n",
       "      <td>-0.0165697</td>\n",
       "      <td>-0.0100979</td>\n",
       "      <td>-0.0196408</td>\n",
       "      <td>-0.0304883</td>\n",
       "      <td>-0.0217507</td>\n",
       "      <td>-0.0099603</td>\n",
       "      <td>...</td>\n",
       "      <td>-0.108046</td>\n",
       "      <td>-0.0399683</td>\n",
       "      <td>-0.0363901</td>\n",
       "      <td>0.0634229</td>\n",
       "      <td>-0.00108781</td>\n",
       "      <td>-0.0571934</td>\n",
       "      <td>-0.00774933</td>\n",
       "      <td>-0.0170106</td>\n",
       "      <td>-0.018843</td>\n",
       "      <td>-0.0124231</td>\n",
       "    </tr>\n",
       "    <tr>\n",
       "      <td>tBodyAcc-mean()-Z</td>\n",
       "      <td>-0.132905</td>\n",
       "      <td>-0.12352</td>\n",
       "      <td>-0.113462</td>\n",
       "      <td>-0.123283</td>\n",
       "      <td>-0.115362</td>\n",
       "      <td>-0.105137</td>\n",
       "      <td>-0.110022</td>\n",
       "      <td>-0.12536</td>\n",
       "      <td>-0.120751</td>\n",
       "      <td>-0.106065</td>\n",
       "      <td>...</td>\n",
       "      <td>-0.056677</td>\n",
       "      <td>-0.143397</td>\n",
       "      <td>-0.167651</td>\n",
       "      <td>-0.220567</td>\n",
       "      <td>-0.148326</td>\n",
       "      <td>-0.181233</td>\n",
       "      <td>-0.147468</td>\n",
       "      <td>-0.0450218</td>\n",
       "      <td>-0.158281</td>\n",
       "      <td>-0.203867</td>\n",
       "    </tr>\n",
       "    <tr>\n",
       "      <td>tBodyAcc-std()-X</td>\n",
       "      <td>-0.995279</td>\n",
       "      <td>-0.998245</td>\n",
       "      <td>-0.99538</td>\n",
       "      <td>-0.996091</td>\n",
       "      <td>-0.998139</td>\n",
       "      <td>-0.997335</td>\n",
       "      <td>-0.996921</td>\n",
       "      <td>-0.996559</td>\n",
       "      <td>-0.997328</td>\n",
       "      <td>-0.994803</td>\n",
       "      <td>...</td>\n",
       "      <td>-0.230796</td>\n",
       "      <td>-0.230396</td>\n",
       "      <td>-0.176954</td>\n",
       "      <td>-0.244758</td>\n",
       "      <td>-0.218949</td>\n",
       "      <td>-0.195387</td>\n",
       "      <td>-0.235309</td>\n",
       "      <td>-0.218218</td>\n",
       "      <td>-0.219139</td>\n",
       "      <td>-0.26927</td>\n",
       "    </tr>\n",
       "    <tr>\n",
       "      <td>tBodyAcc-std()-Y</td>\n",
       "      <td>-0.983111</td>\n",
       "      <td>-0.9753</td>\n",
       "      <td>-0.967187</td>\n",
       "      <td>-0.983403</td>\n",
       "      <td>-0.980817</td>\n",
       "      <td>-0.990487</td>\n",
       "      <td>-0.967186</td>\n",
       "      <td>-0.966728</td>\n",
       "      <td>-0.961245</td>\n",
       "      <td>-0.972758</td>\n",
       "      <td>...</td>\n",
       "      <td>-0.140521</td>\n",
       "      <td>-0.133669</td>\n",
       "      <td>-0.0501467</td>\n",
       "      <td>-0.0321591</td>\n",
       "      <td>-0.0129267</td>\n",
       "      <td>0.0399048</td>\n",
       "      <td>0.00481628</td>\n",
       "      <td>-0.103822</td>\n",
       "      <td>-0.111412</td>\n",
       "      <td>-0.0872115</td>\n",
       "    </tr>\n",
       "    <tr>\n",
       "      <td>...</td>\n",
       "      <td>...</td>\n",
       "      <td>...</td>\n",
       "      <td>...</td>\n",
       "      <td>...</td>\n",
       "      <td>...</td>\n",
       "      <td>...</td>\n",
       "      <td>...</td>\n",
       "      <td>...</td>\n",
       "      <td>...</td>\n",
       "      <td>...</td>\n",
       "      <td>...</td>\n",
       "      <td>...</td>\n",
       "      <td>...</td>\n",
       "      <td>...</td>\n",
       "      <td>...</td>\n",
       "      <td>...</td>\n",
       "      <td>...</td>\n",
       "      <td>...</td>\n",
       "      <td>...</td>\n",
       "      <td>...</td>\n",
       "      <td>...</td>\n",
       "    </tr>\n",
       "    <tr>\n",
       "      <td>angle(X,gravityMean)</td>\n",
       "      <td>-0.841247</td>\n",
       "      <td>-0.844788</td>\n",
       "      <td>-0.848933</td>\n",
       "      <td>-0.848649</td>\n",
       "      <td>-0.847865</td>\n",
       "      <td>-0.849632</td>\n",
       "      <td>-0.85215</td>\n",
       "      <td>-0.851017</td>\n",
       "      <td>-0.847971</td>\n",
       "      <td>-0.848294</td>\n",
       "      <td>...</td>\n",
       "      <td>-0.830575</td>\n",
       "      <td>-0.799426</td>\n",
       "      <td>-0.787935</td>\n",
       "      <td>-0.780362</td>\n",
       "      <td>-0.797272</td>\n",
       "      <td>-0.791883</td>\n",
       "      <td>-0.77184</td>\n",
       "      <td>-0.779133</td>\n",
       "      <td>-0.785181</td>\n",
       "      <td>-0.783267</td>\n",
       "    </tr>\n",
       "    <tr>\n",
       "      <td>angle(Y,gravityMean)</td>\n",
       "      <td>0.179941</td>\n",
       "      <td>0.180289</td>\n",
       "      <td>0.180637</td>\n",
       "      <td>0.181935</td>\n",
       "      <td>0.185151</td>\n",
       "      <td>0.184823</td>\n",
       "      <td>0.18217</td>\n",
       "      <td>0.183779</td>\n",
       "      <td>0.188982</td>\n",
       "      <td>0.19031</td>\n",
       "      <td>...</td>\n",
       "      <td>0.213174</td>\n",
       "      <td>0.23549</td>\n",
       "      <td>0.24449</td>\n",
       "      <td>0.249624</td>\n",
       "      <td>0.234996</td>\n",
       "      <td>0.238604</td>\n",
       "      <td>0.252676</td>\n",
       "      <td>0.249145</td>\n",
       "      <td>0.246432</td>\n",
       "      <td>0.246809</td>\n",
       "    </tr>\n",
       "    <tr>\n",
       "      <td>angle(Z,gravityMean)</td>\n",
       "      <td>-0.0586269</td>\n",
       "      <td>-0.0543167</td>\n",
       "      <td>-0.0491178</td>\n",
       "      <td>-0.0476632</td>\n",
       "      <td>-0.0438923</td>\n",
       "      <td>-0.0421264</td>\n",
       "      <td>-0.04301</td>\n",
       "      <td>-0.0419758</td>\n",
       "      <td>-0.0373639</td>\n",
       "      <td>-0.0344173</td>\n",
       "      <td>...</td>\n",
       "      <td>-0.00510524</td>\n",
       "      <td>-0.00164732</td>\n",
       "      <td>0.00953791</td>\n",
       "      <td>0.0278779</td>\n",
       "      <td>0.048907</td>\n",
       "      <td>0.0498191</td>\n",
       "      <td>0.0500526</td>\n",
       "      <td>0.0408112</td>\n",
       "      <td>0.0253395</td>\n",
       "      <td>0.0366948</td>\n",
       "    </tr>\n",
       "    <tr>\n",
       "      <td>subject</td>\n",
       "      <td>1</td>\n",
       "      <td>1</td>\n",
       "      <td>1</td>\n",
       "      <td>1</td>\n",
       "      <td>1</td>\n",
       "      <td>1</td>\n",
       "      <td>1</td>\n",
       "      <td>1</td>\n",
       "      <td>1</td>\n",
       "      <td>1</td>\n",
       "      <td>...</td>\n",
       "      <td>30</td>\n",
       "      <td>30</td>\n",
       "      <td>30</td>\n",
       "      <td>30</td>\n",
       "      <td>30</td>\n",
       "      <td>30</td>\n",
       "      <td>30</td>\n",
       "      <td>30</td>\n",
       "      <td>30</td>\n",
       "      <td>30</td>\n",
       "    </tr>\n",
       "    <tr>\n",
       "      <td>Activity</td>\n",
       "      <td>STANDING</td>\n",
       "      <td>STANDING</td>\n",
       "      <td>STANDING</td>\n",
       "      <td>STANDING</td>\n",
       "      <td>STANDING</td>\n",
       "      <td>STANDING</td>\n",
       "      <td>STANDING</td>\n",
       "      <td>STANDING</td>\n",
       "      <td>STANDING</td>\n",
       "      <td>STANDING</td>\n",
       "      <td>...</td>\n",
       "      <td>WALKING_UPSTAIRS</td>\n",
       "      <td>WALKING_UPSTAIRS</td>\n",
       "      <td>WALKING_UPSTAIRS</td>\n",
       "      <td>WALKING_UPSTAIRS</td>\n",
       "      <td>WALKING_UPSTAIRS</td>\n",
       "      <td>WALKING_UPSTAIRS</td>\n",
       "      <td>WALKING_UPSTAIRS</td>\n",
       "      <td>WALKING_UPSTAIRS</td>\n",
       "      <td>WALKING_UPSTAIRS</td>\n",
       "      <td>WALKING_UPSTAIRS</td>\n",
       "    </tr>\n",
       "  </tbody>\n",
       "</table>\n",
       "<p>563 rows × 7352 columns</p>\n",
       "</div>"
      ],
      "text/plain": [
       "                           0          1          2          3          4     \\\n",
       "tBodyAcc-mean()-X      0.288585   0.278419   0.279653   0.279174   0.276629   \n",
       "tBodyAcc-mean()-Y    -0.0202942 -0.0164106 -0.0194672 -0.0262006 -0.0165697   \n",
       "tBodyAcc-mean()-Z     -0.132905   -0.12352  -0.113462  -0.123283  -0.115362   \n",
       "tBodyAcc-std()-X      -0.995279  -0.998245   -0.99538  -0.996091  -0.998139   \n",
       "tBodyAcc-std()-Y      -0.983111    -0.9753  -0.967187  -0.983403  -0.980817   \n",
       "...                         ...        ...        ...        ...        ...   \n",
       "angle(X,gravityMean)  -0.841247  -0.844788  -0.848933  -0.848649  -0.847865   \n",
       "angle(Y,gravityMean)   0.179941   0.180289   0.180637   0.181935   0.185151   \n",
       "angle(Z,gravityMean) -0.0586269 -0.0543167 -0.0491178 -0.0476632 -0.0438923   \n",
       "subject                       1          1          1          1          1   \n",
       "Activity               STANDING   STANDING   STANDING   STANDING   STANDING   \n",
       "\n",
       "                           5          6          7          8          9     \\\n",
       "tBodyAcc-mean()-X      0.277199   0.279454   0.277432   0.277293   0.280586   \n",
       "tBodyAcc-mean()-Y    -0.0100979 -0.0196408 -0.0304883 -0.0217507 -0.0099603   \n",
       "tBodyAcc-mean()-Z     -0.105137  -0.110022   -0.12536  -0.120751  -0.106065   \n",
       "tBodyAcc-std()-X      -0.997335  -0.996921  -0.996559  -0.997328  -0.994803   \n",
       "tBodyAcc-std()-Y      -0.990487  -0.967186  -0.966728  -0.961245  -0.972758   \n",
       "...                         ...        ...        ...        ...        ...   \n",
       "angle(X,gravityMean)  -0.849632   -0.85215  -0.851017  -0.847971  -0.848294   \n",
       "angle(Y,gravityMean)   0.184823    0.18217   0.183779   0.188982    0.19031   \n",
       "angle(Z,gravityMean) -0.0421264   -0.04301 -0.0419758 -0.0373639 -0.0344173   \n",
       "subject                       1          1          1          1          1   \n",
       "Activity               STANDING   STANDING   STANDING   STANDING   STANDING   \n",
       "\n",
       "                      ...              7342              7343  \\\n",
       "tBodyAcc-mean()-X     ...          0.276137           0.29423   \n",
       "tBodyAcc-mean()-Y     ...         -0.108046        -0.0399683   \n",
       "tBodyAcc-mean()-Z     ...         -0.056677         -0.143397   \n",
       "tBodyAcc-std()-X      ...         -0.230796         -0.230396   \n",
       "tBodyAcc-std()-Y      ...         -0.140521         -0.133669   \n",
       "...                   ...               ...               ...   \n",
       "angle(X,gravityMean)  ...         -0.830575         -0.799426   \n",
       "angle(Y,gravityMean)  ...          0.213174           0.23549   \n",
       "angle(Z,gravityMean)  ...       -0.00510524       -0.00164732   \n",
       "subject               ...                30                30   \n",
       "Activity              ...  WALKING_UPSTAIRS  WALKING_UPSTAIRS   \n",
       "\n",
       "                                  7344              7345              7346  \\\n",
       "tBodyAcc-mean()-X             0.221206          0.207861          0.237966   \n",
       "tBodyAcc-mean()-Y           -0.0363901         0.0634229       -0.00108781   \n",
       "tBodyAcc-mean()-Z            -0.167651         -0.220567         -0.148326   \n",
       "tBodyAcc-std()-X             -0.176954         -0.244758         -0.218949   \n",
       "tBodyAcc-std()-Y            -0.0501467        -0.0321591        -0.0129267   \n",
       "...                                ...               ...               ...   \n",
       "angle(X,gravityMean)         -0.787935         -0.780362         -0.797272   \n",
       "angle(Y,gravityMean)           0.24449          0.249624          0.234996   \n",
       "angle(Z,gravityMean)        0.00953791         0.0278779          0.048907   \n",
       "subject                             30                30                30   \n",
       "Activity              WALKING_UPSTAIRS  WALKING_UPSTAIRS  WALKING_UPSTAIRS   \n",
       "\n",
       "                                  7347              7348              7349  \\\n",
       "tBodyAcc-mean()-X             0.299665          0.273853          0.273387   \n",
       "tBodyAcc-mean()-Y           -0.0571934       -0.00774933        -0.0170106   \n",
       "tBodyAcc-mean()-Z            -0.181233         -0.147468        -0.0450218   \n",
       "tBodyAcc-std()-X             -0.195387         -0.235309         -0.218218   \n",
       "tBodyAcc-std()-Y             0.0399048        0.00481628         -0.103822   \n",
       "...                                ...               ...               ...   \n",
       "angle(X,gravityMean)         -0.791883          -0.77184         -0.779133   \n",
       "angle(Y,gravityMean)          0.238604          0.252676          0.249145   \n",
       "angle(Z,gravityMean)         0.0498191         0.0500526         0.0408112   \n",
       "subject                             30                30                30   \n",
       "Activity              WALKING_UPSTAIRS  WALKING_UPSTAIRS  WALKING_UPSTAIRS   \n",
       "\n",
       "                                  7350              7351  \n",
       "tBodyAcc-mean()-X             0.289654          0.351503  \n",
       "tBodyAcc-mean()-Y            -0.018843        -0.0124231  \n",
       "tBodyAcc-mean()-Z            -0.158281         -0.203867  \n",
       "tBodyAcc-std()-X             -0.219139          -0.26927  \n",
       "tBodyAcc-std()-Y             -0.111412        -0.0872115  \n",
       "...                                ...               ...  \n",
       "angle(X,gravityMean)         -0.785181         -0.783267  \n",
       "angle(Y,gravityMean)          0.246432          0.246809  \n",
       "angle(Z,gravityMean)         0.0253395         0.0366948  \n",
       "subject                             30                30  \n",
       "Activity              WALKING_UPSTAIRS  WALKING_UPSTAIRS  \n",
       "\n",
       "[563 rows x 7352 columns]"
      ]
     },
     "execution_count": 22,
     "metadata": {},
     "output_type": "execute_result"
    }
   ],
   "source": [
    "df.T"
   ]
  },
  {
   "cell_type": "code",
   "execution_count": 12,
   "metadata": {},
   "outputs": [
    {
     "data": {
      "image/png": "[encoded data removed]",
      "text/plain": [
       "<Figure size 936x432 with 1 Axes>"
      ]
     },
     "metadata": {},
     "output_type": "display_data"
    }
   ],
   "source": [
    "sns.set(rc={'figure.figsize':(13,6)})\n",
    "fig = sns.countplot(x = \"Activity\" , data = df)\n",
    "plt.xlabel(\"Activity\")\n",
    "plt.ylabel(\"Count\")\n",
    "plt.title(\"Activity Count\")\n",
    "plt.grid(True)\n",
    "plt.show(fig)"
   ]
  },
  {
   "cell_type": "code",
   "execution_count": 14,
   "metadata": {},
   "outputs": [
    {
     "name": "stdout",
     "output_type": "stream",
     "text": [
      "(7352, 563) (2947, 563)\n"
     ]
    }
   ],
   "source": [
    "print(df.shape , test.shape)"
   ]
  },
  {
   "cell_type": "code",
   "execution_count": 15,
   "metadata": {},
   "outputs": [
    {
     "data": {
      "text/plain": [
       "Index(['tBodyAcc-mean()-X', 'tBodyAcc-mean()-Y', 'tBodyAcc-mean()-Z',\n",
       "       'tBodyAcc-std()-X', 'tBodyAcc-std()-Y', 'tBodyAcc-std()-Z',\n",
       "       'tBodyAcc-mad()-X', 'tBodyAcc-mad()-Y', 'tBodyAcc-mad()-Z',\n",
       "       'tBodyAcc-max()-X',\n",
       "       ...\n",
       "       'fBodyBodyGyroJerkMag-kurtosis()', 'angle(tBodyAccMean,gravity)',\n",
       "       'angle(tBodyAccJerkMean),gravityMean)',\n",
       "       'angle(tBodyGyroMean,gravityMean)',\n",
       "       'angle(tBodyGyroJerkMean,gravityMean)', 'angle(X,gravityMean)',\n",
       "       'angle(Y,gravityMean)', 'angle(Z,gravityMean)', 'subject', 'Activity'],\n",
       "      dtype='object', length=563)"
      ]
     },
     "execution_count": 15,
     "metadata": {},
     "output_type": "execute_result"
    }
   ],
   "source": [
    "df.columns"
   ]
  },
  {
   "cell_type": "code",
   "execution_count": 46,
   "metadata": {},
   "outputs": [
    {
     "name": "stdout",
     "output_type": "stream",
     "text": [
      "[[0.64429225 0.48985291 0.43354743 ... 0.79825103 0.47068654 0.        ]\n",
      " [0.63920942 0.49179472 0.4382399  ... 0.79848665 0.47284164 0.        ]\n",
      " [0.63982653 0.49026642 0.44326915 ... 0.79872236 0.47544109 0.        ]\n",
      " ...\n",
      " [0.63669369 0.49149469 0.47748909 ... 0.84506893 0.52040559 1.        ]\n",
      " [0.64482708 0.49057848 0.42085971 ... 0.84323381 0.51266974 1.        ]\n",
      " [0.67575173 0.49378844 0.39806642 ... 0.84348837 0.51834742 1.        ]]\n"
     ]
    }
   ],
   "source": [
    "from sklearn.preprocessing import MinMaxScaler\n",
    "scaler = MinMaxScaler()\n",
    "scaler.fit(df.iloc[:,0:562])\n",
    "mat_train = scaler.transform(df.iloc[:,0:562])\n",
    "print(mat_train)"
   ]
  },
  {
   "cell_type": "code",
   "execution_count": 47,
   "metadata": {},
   "outputs": [
    {
     "name": "stdout",
     "output_type": "stream",
     "text": [
      "[[0.6718788  0.55764282 0.52464834 ... 0.62209457 0.46362736 0.        ]\n",
      " [0.69470427 0.57426358 0.42707858 ... 0.62446791 0.45014396 0.        ]\n",
      " [0.68636345 0.55310221 0.42794829 ... 0.62380956 0.45251181 0.        ]\n",
      " ...\n",
      " [0.74529355 0.64526771 0.43015674 ... 0.62088108 0.58803909 1.        ]\n",
      " [0.65638384 0.62620241 0.44817885 ... 0.61581385 0.59135763 1.        ]\n",
      " [0.58994885 0.56560474 0.41032069 ... 0.61537208 0.59163879 1.        ]]\n"
     ]
    }
   ],
   "source": [
    "scaler = MinMaxScaler()\n",
    "scaler.fit(test.iloc[:,0:562])\n",
    "mat_test = scaler.transform(test.iloc[:,0:562])\n",
    "print(mat_test)"
   ]
  },
  {
   "cell_type": "code",
   "execution_count": 48,
   "metadata": {},
   "outputs": [],
   "source": [
    "temp = []\n",
    "for i in df.Activity:\n",
    "    if i == \"WALKING\": temp.append(0)\n",
    "    if i == \"WALKING_UPSTAIRS\": temp.append(1)\n",
    "    if i == \"WALKING_DOWNSTAIRS\": temp.append(2)\n",
    "    if i == \"SITTING\": temp.append(3)\n",
    "    if i == \"STANDING\": temp.append(4)\n",
    "    if i == \"LAYING\": temp.append(5)\n",
    "df[\"n_Activity\"] = temp"
   ]
  },
  {
   "cell_type": "code",
   "execution_count": 49,
   "metadata": {},
   "outputs": [],
   "source": [
    "temp = []\n",
    "for i in test.Activity:\n",
    "    if i == \"WALKING\": temp.append(0)\n",
    "    if i == \"WALKING_UPSTAIRS\": temp.append(1)\n",
    "    if i == \"WALKING_DOWNSTAIRS\": temp.append(2)\n",
    "    if i == \"SITTING\": temp.append(3)\n",
    "    if i == \"STANDING\": temp.append(4)\n",
    "    if i == \"LAYING\": temp.append(5)\n",
    "test[\"n_Activity\"] = temp"
   ]
  },
  {
   "cell_type": "code",
   "execution_count": 50,
   "metadata": {},
   "outputs": [],
   "source": [
    "df.drop([\"Activity\"] , axis = 1 , inplace = True)\n",
    "test.drop([\"Activity\"] , axis = 1 , inplace = True)"
   ]
  },
  {
   "cell_type": "code",
   "execution_count": 53,
   "metadata": {},
   "outputs": [
    {
     "name": "stderr",
     "output_type": "stream",
     "text": [
      "Using TensorFlow backend.\n"
     ]
    }
   ],
   "source": [
    "from keras.utils import to_categorical\n",
    "y_train = to_categorical(df.n_Activity , num_classes=6)\n",
    "y_test = to_categorical(test.n_Activity , num_classes=6)"
   ]
  },
  {
   "cell_type": "code",
   "execution_count": 58,
   "metadata": {},
   "outputs": [],
   "source": [
    "X_train = mat_train \n",
    "X_test = mat_test"
   ]
  },
  {
   "cell_type": "code",
   "execution_count": 59,
   "metadata": {},
   "outputs": [
    {
     "name": "stdout",
     "output_type": "stream",
     "text": [
      "(7352, 562) (7352, 6)\n",
      "(2947, 562) (2947, 6)\n"
     ]
    }
   ],
   "source": [
    "print(X_train.shape , y_train.shape)\n",
    "print(X_test.shape , y_test.shape)"
   ]
  },
  {
   "cell_type": "code",
   "execution_count": 60,
   "metadata": {},
   "outputs": [],
   "source": [
    "from keras.models import Sequential\n",
    "from keras.layers import Dense, Dropout , BatchNormalization\n",
    "from sklearn.model_selection import train_test_split\n",
    "from keras.utils import np_utils\n",
    "from keras.optimizers import RMSprop, Adam"
   ]
  },
  {
   "cell_type": "code",
   "execution_count": 85,
   "metadata": {},
   "outputs": [
    {
     "name": "stdout",
     "output_type": "stream",
     "text": [
      "Model: \"sequential_3\"\n",
      "_________________________________________________________________\n",
      "Layer (type)                 Output Shape              Param #   \n",
      "=================================================================\n",
      "dense_13 (Dense)             (None, 64)                36032     \n",
      "_________________________________________________________________\n",
      "dense_14 (Dense)             (None, 128)               8320      \n",
      "_________________________________________________________________\n",
      "batch_normalization_3 (Batch (None, 128)               512       \n",
      "_________________________________________________________________\n",
      "dense_15 (Dense)             (None, 128)               16512     \n",
      "_________________________________________________________________\n",
      "dense_16 (Dense)             (None, 98)                12642     \n",
      "_________________________________________________________________\n",
      "dense_17 (Dense)             (None, 32)                3168      \n",
      "_________________________________________________________________\n",
      "dense_18 (Dense)             (None, 6)                 198       \n",
      "=================================================================\n",
      "Total params: 77,384\n",
      "Trainable params: 77,128\n",
      "Non-trainable params: 256\n",
      "_________________________________________________________________\n",
      "None\n"
     ]
    }
   ],
   "source": [
    "model = Sequential()\n",
    "\n",
    "model.add(Dense(64, input_dim=X_train.shape[1] , activation='relu'))\n",
    "model.add(Dense(128, activation='relu'))\n",
    "model.add(BatchNormalization())\n",
    "model.add(Dense(128, activation='relu'))\n",
    "model.add(Dense(98, activation='relu'))\n",
    "model.add(Dense(32, activation='relu'))\n",
    "model.add(Dense(6, activation='sigmoid'))\n",
    "\n",
    "model.compile(optimizer = Adam(lr = 0.0005),loss='categorical_crossentropy', metrics=['accuracy'])\n",
    "print(model.summary())"
   ]
  },
  {
   "cell_type": "code",
   "execution_count": 86,
   "metadata": {},
   "outputs": [
    {
     "name": "stdout",
     "output_type": "stream",
     "text": [
      "Train on 7352 samples, validate on 2947 samples\n",
      "Epoch 1/22\n",
      "7352/7352 [==============================] - 4s 492us/step - loss: 1.3588 - accuracy: 0.5826 - val_loss: 1.5949 - val_accuracy: 0.6145\n",
      "Epoch 2/22\n",
      "7352/7352 [==============================] - 1s 120us/step - loss: 0.4961 - accuracy: 0.8398 - val_loss: 1.1114 - val_accuracy: 0.7031\n",
      "Epoch 3/22\n",
      "7352/7352 [==============================] - 1s 131us/step - loss: 0.2117 - accuracy: 0.9143 - val_loss: 0.8702 - val_accuracy: 0.7251\n",
      "Epoch 4/22\n",
      "7352/7352 [==============================] - 1s 144us/step - loss: 0.1178 - accuracy: 0.9563 - val_loss: 0.7133 - val_accuracy: 0.7611\n",
      "Epoch 5/22\n",
      "7352/7352 [==============================] - 1s 133us/step - loss: 0.0824 - accuracy: 0.9691 - val_loss: 0.6240 - val_accuracy: 0.7866\n",
      "Epoch 6/22\n",
      "7352/7352 [==============================] - 1s 129us/step - loss: 0.0691 - accuracy: 0.9747 - val_loss: 0.5803 - val_accuracy: 0.7550\n",
      "Epoch 7/22\n",
      "7352/7352 [==============================] - 1s 144us/step - loss: 0.0618 - accuracy: 0.9763 - val_loss: 0.4864 - val_accuracy: 0.7855\n",
      "Epoch 8/22\n",
      "7352/7352 [==============================] - 1s 140us/step - loss: 0.0557 - accuracy: 0.9807 - val_loss: 0.4862 - val_accuracy: 0.7801\n",
      "Epoch 9/22\n",
      "7352/7352 [==============================] - 1s 130us/step - loss: 0.0402 - accuracy: 0.9854 - val_loss: 0.4902 - val_accuracy: 0.7838\n",
      "Epoch 10/22\n",
      "7352/7352 [==============================] - 1s 114us/step - loss: 0.0433 - accuracy: 0.9846 - val_loss: 0.4645 - val_accuracy: 0.8062\n",
      "Epoch 11/22\n",
      "7352/7352 [==============================] - 1s 134us/step - loss: 0.0452 - accuracy: 0.9842 - val_loss: 0.4354 - val_accuracy: 0.8103\n",
      "Epoch 12/22\n",
      "7352/7352 [==============================] - 1s 139us/step - loss: 0.0424 - accuracy: 0.9842 - val_loss: 0.4049 - val_accuracy: 0.8205\n",
      "Epoch 13/22\n",
      "7352/7352 [==============================] - 1s 133us/step - loss: 0.0377 - accuracy: 0.9868 - val_loss: 0.5582 - val_accuracy: 0.7995\n",
      "Epoch 14/22\n",
      "7352/7352 [==============================] - 1s 130us/step - loss: 0.0328 - accuracy: 0.9895 - val_loss: 0.2026 - val_accuracy: 0.9169\n",
      "Epoch 15/22\n",
      "7352/7352 [==============================] - 1s 137us/step - loss: 0.0313 - accuracy: 0.9891 - val_loss: 0.5234 - val_accuracy: 0.8174\n",
      "Epoch 16/22\n",
      "7352/7352 [==============================] - 1s 144us/step - loss: 0.0310 - accuracy: 0.9884 - val_loss: 1.2230 - val_accuracy: 0.7133\n",
      "Epoch 17/22\n",
      "7352/7352 [==============================] - 1s 144us/step - loss: 0.0260 - accuracy: 0.9914 - val_loss: 0.8342 - val_accuracy: 0.7845\n",
      "Epoch 18/22\n",
      "7352/7352 [==============================] - 1s 122us/step - loss: 0.0339 - accuracy: 0.9864 - val_loss: 0.9442 - val_accuracy: 0.7469\n",
      "Epoch 19/22\n",
      "7352/7352 [==============================] - 1s 151us/step - loss: 0.0238 - accuracy: 0.9918 - val_loss: 0.6656 - val_accuracy: 0.8375\n",
      "Epoch 20/22\n",
      "7352/7352 [==============================] - 1s 133us/step - loss: 0.0261 - accuracy: 0.9899 - val_loss: 0.6522 - val_accuracy: 0.8157\n",
      "Epoch 21/22\n",
      "7352/7352 [==============================] - 1s 139us/step - loss: 0.0259 - accuracy: 0.9910 - val_loss: 1.1905 - val_accuracy: 0.7445\n",
      "Epoch 22/22\n",
      "7352/7352 [==============================] - 1s 143us/step - loss: 0.0200 - accuracy: 0.9928 - val_loss: 0.6119 - val_accuracy: 0.8358\n"
     ]
    }
   ],
   "source": [
    "history = model.fit(X_train, y_train , epochs=22 , batch_size = 256 , validation_data=(X_test, y_test))"
   ]
  },
  {
   "cell_type": "code",
   "execution_count": 87,
   "metadata": {},
   "outputs": [
    {
     "data": {
      "image/png": "[encoded data removed]",
      "text/plain": [
       "<Figure size 720x288 with 1 Axes>"
      ]
     },
     "metadata": {},
     "output_type": "display_data"
    },
    {
     "data": {
      "image/png": "[encoded data removed]",
      "text/plain": [
       "<Figure size 720x288 with 1 Axes>"
      ]
     },
     "metadata": {},
     "output_type": "display_data"
    }
   ],
   "source": [
    "from pylab import rcParams\n",
    "rcParams['figure.figsize'] = 10, 4\n",
    "plt.plot(history.history['accuracy'])\n",
    "plt.plot(history.history['val_accuracy'])\n",
    "plt.title('model accuracy')\n",
    "plt.ylabel('accuracy')\n",
    "plt.xlabel('epoch')\n",
    "plt.legend(['train', 'test'], loc='upper left')\n",
    "plt.show()\n",
    "# summarize history for loss\n",
    "plt.plot(history.history['loss'])\n",
    "plt.plot(history.history['val_loss'])\n",
    "plt.title('model loss')\n",
    "plt.ylabel('loss')\n",
    "plt.xlabel('epoch')\n",
    "plt.legend(['train', 'test'], loc='upper left')\n",
    "plt.show()"
   ]
  },
  {
   "cell_type": "code",
   "execution_count": 88,
   "metadata": {},
   "outputs": [],
   "source": [
    "from sklearn.metrics import confusion_matrix\n",
    "pred = model.predict(X_test)\n",
    "pred = np.argmax(pred,axis = 1) \n",
    "y_true = np.argmax(y_test,axis = 1)"
   ]
  },
  {
   "cell_type": "code",
   "execution_count": 89,
   "metadata": {},
   "outputs": [],
   "source": [
    "CM = confusion_matrix(y_true, pred)"
   ]
  },
  {
   "cell_type": "code",
   "execution_count": 90,
   "metadata": {},
   "outputs": [
    {
     "name": "stdout",
     "output_type": "stream",
     "text": [
      "[[404   4  88   0   0   0]\n",
      " [ 15 332 124   0   0   0]\n",
      " [  0   1 419   0   0   0]\n",
      " [  0   1   0 475   9   6]\n",
      " [  0   0   0 236 296   0]\n",
      " [  0   0   0   0   0 537]]\n"
     ]
    }
   ],
   "source": [
    "print(CM)"
   ]
  },
  {
   "cell_type": "code",
   "execution_count": 91,
   "metadata": {},
   "outputs": [
    {
     "name": "stdout",
     "output_type": "stream",
     "text": [
      "              precision    recall  f1-score   support\n",
      "\n",
      "           0       0.96      0.81      0.88       496\n",
      "           1       0.98      0.70      0.82       471\n",
      "           2       0.66      1.00      0.80       420\n",
      "           3       0.67      0.97      0.79       491\n",
      "           4       0.97      0.56      0.71       532\n",
      "           5       0.99      1.00      0.99       537\n",
      "\n",
      "    accuracy                           0.84      2947\n",
      "   macro avg       0.87      0.84      0.83      2947\n",
      "weighted avg       0.88      0.84      0.83      2947\n",
      "\n"
     ]
    }
   ],
   "source": [
    "from sklearn.metrics import classification_report , accuracy_score\n",
    "print(classification_report(y_true, pred))"
   ]
  },
  {
   "cell_type": "code",
   "execution_count": null,
   "metadata": {},
   "outputs": [],
   "source": []
  }
 ],
 "metadata": {
  "kernelspec": {
   "display_name": "Python 3",
   "language": "python",
   "name": "python3"
  },
  "language_info": {
   "codemirror_mode": {
    "name": "ipython",
    "version": 3
   },
   "file_extension": ".py",
   "mimetype": "text/x-python",
   "name": "python",
   "nbconvert_exporter": "python",
   "pygments_lexer": "ipython3",
   "version": "3.7.4"
  }
 },
 "nbformat": 4,
 "nbformat_minor": 2
}
